{
 "cells": [
  {
   "cell_type": "markdown",
   "metadata": {},
   "source": [
    "# Pydoop - 파이썬으로 하둡 내 파일 읽어오기 #"
   ]
  },
  {
   "cell_type": "markdown",
   "metadata": {},
   "source": [
    "### 환경 설정(준비물) ###\n",
    "- Python version 2.7\n",
    "- setuptools version 3.3 or higher\n",
    "- Anaconda\n",
    "- either of the following: \n",
    "    - Apache Hadoop version 1.0.4, 1.1.2, 1.2.1, 2.2.0, 2.4.1, 2.5.2 or 2.6.0\n",
    "    - CDH version 4 or 5 installed from dist-specific packages or Cloudera Manager parcels (no tarball)\n",
    "    - HDP 2.2\n",
    "- OpenSSL"
   ]
  },
  {
   "cell_type": "markdown",
   "metadata": {},
   "source": [
    "### Download Link ###\n",
    "https://pypi.python.org/pypi/pydoop"
   ]
  },
  {
   "cell_type": "markdown",
   "metadata": {},
   "source": [
    "### 참고 문서 ###\n",
    "https://crs4.github.io/pydoop/installation.html"
   ]
  },
  {
   "cell_type": "markdown",
   "metadata": {},
   "source": [
    "### 설정 후 ###\n",
    "spyder로 실행 시, (py : 이름설정)\n",
    "- conda create -n py python=2.7\n",
    "- vi ~/.bashrc\n",
    "- path = \"/root/anaconda3/envs/py/bin:$path\"\n",
    "- source ~/.bashrc\n",
    "- python -V\n",
    "- pip install pydoop\n",
    "- source activate py\n",
    "- source deactivate\n",
    "- spyder"
   ]
  }
 ],
 "metadata": {
  "kernelspec": {
   "display_name": "Python 3",
   "language": "python",
   "name": "python3"
  },
  "language_info": {
   "codemirror_mode": {
    "name": "ipython",
    "version": 3
   },
   "file_extension": ".py",
   "mimetype": "text/x-python",
   "name": "python",
   "nbconvert_exporter": "python",
   "pygments_lexer": "ipython3",
   "version": "3.6.1"
  }
 },
 "nbformat": 4,
 "nbformat_minor": 2
}
